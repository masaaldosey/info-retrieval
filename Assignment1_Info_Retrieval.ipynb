{
  "nbformat": 4,
  "nbformat_minor": 0,
  "metadata": {
    "colab": {
      "name": "Assignment1_Info_Retrieval.ipynb",
      "provenance": [],
      "collapsed_sections": []
    },
    "kernelspec": {
      "name": "python3",
      "display_name": "Python 3"
    }
  },
  "cells": [
    {
      "cell_type": "markdown",
      "metadata": {
        "id": "AXLNi7F1QNKE"
      },
      "source": [
        "**Group - 21**\n",
        "1. Aimilios Petroulas - 03743395\n",
        "2. Mohammed Anas Ejjalili - 03735491\n",
        "3. Gayatri Kudchadker - 03709002\n",
        "4. Leela Sai Prabhat Reddy Kondamadugula - 03708633\n",
        "5. Selin Kesler - 03694002\n"
      ]
    },
    {
      "cell_type": "markdown",
      "metadata": {
        "id": "Fm_bCzsC3c08"
      },
      "source": [
        "# **Task I**\n",
        "\n",
        "Let $\\mathbf{C}_d = \\{\\mathbf{x}\\in \\mathbb{R}^p\\mid\\|\\mathbf{x}\\|_\\infty\\leq\\frac{d}{2}\\}$ denote the $p$-dimensional hypercube of edge length $d$, centered at the origin.\n",
        "#### **Part 1**\n",
        "Assume $\\mathbf{X}$ to be uniformly distributed in $\\mathbf{C}_1$. Determine $d$ in dependence of $p$ and $q\\in[0, 1]$, such that\n",
        "$$Pr(\\mathbf{X}\\in\\mathbf{C}_d)=q$$\n",
        "holds.\n",
        "\n"
      ]
    },
    {
      "cell_type": "markdown",
      "metadata": {
        "id": "6EAIAx6LrgF2"
      },
      "source": [
        "#### Solution : \n",
        "\n",
        "X is uniformly distributed in $\\mathbf{C}_1$\n",
        "\n",
        "$$Pr(\\mathbf{X}\\in\\mathbf{C}_1)=q$$\n",
        "\n",
        "\n",
        "\n",
        "$\\int_{-1/2}^{1/2}$$\\int_{-1/2}^{1/2}$....$\\int_{-1/2}^{1/2}$$\\int_{-1/2}^{1/2}\\mathbf{dx}_1\\mathbf{dx}_2......\\mathbf{dx}_p$ = q\n",
        "\n",
        "Therefore, and given that\n",
        "\n",
        "$$Pr(\\mathbf{X}\\in\\mathbf{C}_d)=q$$\n",
        "\n",
        "$\\int_{-d/2}^{d/2}$$\\int_{-d/2}^{d/2}$....$\\int_{-d/2}^{d/2}$$\\int_{-d/2}^{d/2}\\mathbf{dx}_1\\mathbf{dx}_2......\\mathbf{dx}_p$ = q\n",
        "\n",
        "Thus, it can be shown that <br>\n",
        "  $d^{p}={q}$\n",
        "\n",
        "\n",
        "Hence,\n",
        "\n",
        "${d}=\\sqrt[p]{q}$"
      ]
    },
    {
      "cell_type": "markdown",
      "metadata": {
        "id": "IfNvcjkIp77y"
      },
      "source": [
        "#### **Part  2**\n",
        "Let the components of the $p$-dimensional random variable $\\mathbf{X}^p$ be independent and have the standard normal distribution. It is known that $Pr(|\\mathbf{X}^1|\\leq2.576)=0.99$. For an arbitrary $p$, determine the probability $Pr(\\|\\mathbf{X}^p\\|_\\infty\\gt2.576)$ for any of the components of $\\mathbf{X}^p$ to lie outside of the interval $[-2.576, 2.576]$. Evaluate the value for $p = 2$, $p = 3$ and $p = 500$."
      ]
    },
    {
      "cell_type": "markdown",
      "metadata": {
        "id": "GeDcBqwfqHoe"
      },
      "source": [
        "#### Solution :  \n",
        "\n",
        "   \\begin{equation}\n",
        "    \\textbf{Given:} \\; 𝑃𝑟(|𝐗^1| ≤ 2.576) = 0.99 \\\\\n",
        "   \\end{equation}\n",
        "   Then it follows that,\n",
        "    \\begin{equation}\n",
        "      𝑃𝑟(‖𝐗^𝑝‖_∞ ≤ 2.576) = (0.99)^{p} \\\\\n",
        "      𝑃𝑟(‖𝐗^𝑝‖_∞ > 2.576) = 1 - 𝑃𝑟(‖𝐗^𝑝‖_∞ ≤ 2.576)\\ = 1 -(0.99)^{p} \\\\\n",
        "      \\textbf{For p = 2:} \\; 𝑃𝑟(‖𝐗^2‖_∞ > 2.576) = 1 - (0.99)^{2} = 0.0199 \\\\\n",
        "      \\textbf{For p = 3:} \\; 𝑃𝑟(‖𝐗^3‖_∞ > 2.576) = 1 - (0.99)^{3} = 0.0297 \\\\\n",
        "      \\textbf{For p = 500:} \\; 𝑃𝑟(‖𝐗^{500}‖_∞ > 2.576) = 1 - (0.99)^{500} = 0.9934\n",
        "    \\end{equation}\n",
        "   "
      ]
    },
    {
      "cell_type": "markdown",
      "metadata": {
        "id": "jbrENM0z3x8n"
      },
      "source": [
        "# **Task II**"
      ]
    },
    {
      "cell_type": "code",
      "metadata": {
        "id": "3pD8JOt2LeLc"
      },
      "source": [
        "# import libraries\n",
        "import numpy as np\n",
        "import matplotlib.pyplot as plt"
      ],
      "execution_count": null,
      "outputs": []
    },
    {
      "cell_type": "markdown",
      "metadata": {
        "id": "Tv0xMP23G_pr"
      },
      "source": [
        "**Part 1**\n",
        "\n",
        "Sample 100 uniformly distributed random vectors from the box $[-1, 1]^{d}$ for d = 2"
      ]
    },
    {
      "cell_type": "code",
      "metadata": {
        "id": "2gTaX5d3Hott",
        "colab": {
          "base_uri": "https://localhost:8080/"
        },
        "outputId": "6d6f2b58-6e9d-433a-bd35-3e0dbd247bff"
      },
      "source": [
        "# generates a matrix of 100 vectors of dimension 2 with values between [-1,1]\n",
        "mat = np.random.uniform(low=-1,high=1,size=(100, 2))\n",
        "print(\"Dimension: \" + str(mat.shape))"
      ],
      "execution_count": null,
      "outputs": [
        {
          "output_type": "stream",
          "text": [
            "Dimension: (100, 2)\n"
          ],
          "name": "stdout"
        }
      ]
    },
    {
      "cell_type": "markdown",
      "metadata": {
        "id": "6fYm8ObhKvWa"
      },
      "source": [
        "**Part 2**\n",
        "\n",
        "For each of the 100 vectors determine the minimum angle to all other vectors. Then compute the average of these minimum angles. Note that for two vectors $\\mathbf{x}$, $\\mathbf{y}$ the cosine of the angle between the two vectors is defined as\n",
        "\n",
        "$$\\cos{((\\mathbf{x}, \\mathbf{y}))} = \\frac{\\langle \\mathbf{x}, \\mathbf{y} \\rangle}{\\|\\mathbf{x}\\|\\|\\mathbf{y}\\|}.$$"
      ]
    },
    {
      "cell_type": "code",
      "metadata": {
        "id": "Qh5clKhS4Z3W",
        "colab": {
          "base_uri": "https://localhost:8080/"
        },
        "outputId": "0dd10e84-95a3-492e-ddf0-c25e44802d1f"
      },
      "source": [
        "def find_mean_min_angle(dimension):\n",
        "  \"\"\"\n",
        "  Input: dimension -> vector dimension\n",
        "  Return: average of minimum angles between a vector to all other vectors\n",
        "  \"\"\"\n",
        "  # generate a matrix of 100 vetors of given dimension\n",
        "  mat = np.random.uniform(low=-1,high=1,size=(100, dimension))\n",
        "  # Find A * A.T\n",
        "  dot_product = np.dot(mat, mat.transpose())  # shape N X N \n",
        "  # L2-norm of each vector\n",
        "  euc_norm_row = np.linalg.norm(mat, axis=1)  # shape (N,)\n",
        "  # divide the dot products by the norms\n",
        "  # this can be done by diving the matrix rowwise and columnwise by the euclidean norm (broadcast row and column wise)\n",
        "  cosines = (dot_product / euc_norm_row ) / (euc_norm_row.reshape(-1, 1))\n",
        "  # find inverse of cosines to get the actual angle\n",
        "  # we need to clip the cosines to be in range [-1, 1] due to floating point precision\n",
        "  angles = np.arccos(np.clip(cosines, -1, 1)) #same shape as cosines\n",
        "  # diagonal values should not be considered since they are angles between a vector and itself\n",
        "  # Thus, the diagonal elements will be 0. We will replace the values with maximum value in each row\n",
        "  np.fill_diagonal(angles, np.max(angles, axis=1))\n",
        "  # Find minimum angle in each row and return average\n",
        "  mean_min_angle = np.mean(np.min(angles, axis=1))\n",
        "  return mean_min_angle\n",
        "\n",
        "# Mean of Minimum angle for dimension = 2\n",
        "print(\"Average Minimum Angle for Dimension = 2 is \" + str(find_mean_min_angle(2)))"
      ],
      "execution_count": null,
      "outputs": [
        {
          "output_type": "stream",
          "text": [
            "Average Minimum Angle for Dimension = 2 is 0.03174586315980854\n"
          ],
          "name": "stdout"
        }
      ]
    },
    {
      "cell_type": "markdown",
      "metadata": {
        "id": "mLcx2jXSLNwj"
      },
      "source": [
        "**Part 3**\n",
        "\n",
        "Repeat the above for dimensions d = 1, ..., 1000 and use the results to plot the average minimum angle against the dimension."
      ]
    },
    {
      "cell_type": "code",
      "metadata": {
        "id": "aRIsob-HW-JL",
        "colab": {
          "base_uri": "https://localhost:8080/",
          "height": 312
        },
        "outputId": "1b0cc968-5566-4636-daab-6a6bdaef093d"
      },
      "source": [
        "# iterate over all dimensions and generate average of minimum angles\n",
        "averages = []\n",
        "for i in range(1, 1001):\n",
        "  averages.append(np.round(find_mean_min_angle(i), 4))\n",
        "\n",
        "plt.grid()\n",
        "plt.plot(np.array(range(0, 1000))+1, averages)\n",
        "plt.title(\"Plot of Average Minimum Angles vs Dimensions\")\n",
        "plt.xlabel(\"Dimensions\")\n",
        "plt.ylabel(\"Average Minimum Angles (Radians)\")\n"
      ],
      "execution_count": null,
      "outputs": [
        {
          "output_type": "execute_result",
          "data": {
            "text/plain": [
              "Text(0, 0.5, 'Average Minimum Angles')"
            ]
          },
          "metadata": {
            "tags": []
          },
          "execution_count": 6
        },
        {
          "output_type": "display_data",
          "data": {
            "image/png": "[encoded data removed]",
            "text/plain": [
              "<Figure size 432x288 with 1 Axes>"
            ]
          },
          "metadata": {
            "tags": [],
            "needs_background": "light"
          }
        }
      ]
    },
    {
      "cell_type": "markdown",
      "metadata": {
        "id": "uPFwJrjHX54C"
      },
      "source": [
        "#### **Part 4**\n",
        "Give an interpretation of the result. What conclusion can you draw for $2$ randomly sampled vectors in a $d$-dimensional space?"
      ]
    },
    {
      "cell_type": "markdown",
      "metadata": {
        "id": "2cBClHBjX9V0"
      },
      "source": [
        "#### Solution:\n",
        "\n",
        "The above result can be interpreted as follows:\n",
        "\n",
        "- As the dimension increases, the angle between two vectors sampled randomly tends to increase.\n",
        "\n",
        "- The minimum angle can be seen converging to $\\frac{\\pi}{2}$ as the dimension increases. It means the two randomly sampled vectors are orthogonal to each other in $d$-dimensional space where $d>>n$.\n",
        "\n",
        "- The sampled vectors become equidistant as the dimension increases and as the randomly sampled vector becomes equidistant, classifiers like $k$-nearest neighbour cannot be used to classify them.\n",
        "\n",
        "- Convergence to $\\frac{\\pi}{2}$ implies that most samples being concentrated in the 'corners' of the cube. This implies that most of the space is occupied by the corners."
      ]
    },
    {
      "cell_type": "markdown",
      "metadata": {
        "id": "us3ueG2PYYpE"
      },
      "source": [
        "#### **Part 5**\n",
        "Does the result change if the sample size increases?"
      ]
    },
    {
      "cell_type": "code",
      "metadata": {
        "id": "gk0Pj1MVxwEP"
      },
      "source": [
        "# for varying sample size \n",
        "\n",
        "def find_mean_min_angle(dimension, sample_size):\n",
        "  \"\"\"\n",
        "  Input: dimension -> vector dimension\n",
        "  Return: average of minimum angles between a vector to all other vectors\n",
        "  \"\"\"\n",
        "  # generate a matrix of 100 vetors of given dimension\n",
        "  mat = np.random.uniform(low=-1,high=1,size=(sample_size, dimension))\n",
        "  # Find A * A.T\n",
        "  dot_product = np.dot(mat, mat.transpose())  # shape N X N \n",
        "  # L2-norm of each vector\n",
        "  euc_norm_row = np.linalg.norm(mat, axis=1)  # shape (N,)\n",
        "  # divide the dot products by the norms\n",
        "  # this can be done by diving the matrix rowwise and columnwise by the euclidean norm (broadcast row and column wise)\n",
        "  cosines = (dot_product / euc_norm_row ) / (euc_norm_row.reshape(-1, 1))\n",
        "  # find inverse of cosines to get the actual angle\n",
        "  # we need to clip the cosines to be in range [-1, 1] due to floating point precision\n",
        "  angles = np.arccos(np.clip(cosines, -1, 1)) #same shape as cosines\n",
        "  # diagonal values should not be considered since they are angles between a vector and itself\n",
        "  # Thus, the diagonal elements will be 0. We will replace the values with maximum value in each row\n",
        "  np.fill_diagonal(angles, np.max(angles, axis=1))\n",
        "  # Find minimum angle in each row and return average\n",
        "  mean_min_angle = np.mean(np.min(angles, axis=1))\n",
        "\n",
        "\n",
        "  return mean_min_angle\n",
        "\n",
        "\n",
        "\n"
      ],
      "execution_count": null,
      "outputs": []
    },
    {
      "cell_type": "markdown",
      "metadata": {
        "id": "7Qad2TPhZKff"
      },
      "source": [
        "We see that there is a decrease in the average minimum angle value with  increase in the sample size."
      ]
    },
    {
      "cell_type": "markdown",
      "metadata": {
        "id": "o0iwIriF6h0f"
      },
      "source": [
        "Cosine distance is a good measuring the similarity between vectors as it is ranged between -1 and 1 by definition. \n",
        "\n",
        "* -1 would mean that two vectors are exactly opposite\n",
        "*  1 would mean that two vectors are exactly the same\n",
        "* 0 indicates the  orthogonality or decorrelation\n",
        "* in-between values indicate intermediate similarity or dissimilarity.\n",
        "\n",
        "\n",
        "As the d-dimensions increase, it is seen that the mean value of the cosine distance to all other vectors decreases and approxiamates to 0. \n",
        "\n",
        "In addition to that, increasing sample size leads cosine-distance to get closer to 0 as increasing sample size reduces the possibility of random correlations between samples. "
      ]
    },
    {
      "cell_type": "code",
      "metadata": {
        "id": "wANZyuFQyiQt",
        "colab": {
          "base_uri": "https://localhost:8080/",
          "height": 1000
        },
        "outputId": "97ff340a-6187-4205-c269-8c1dc5bc1531"
      },
      "source": [
        "# for varying sample size and dimensions \n",
        "\n",
        "\n",
        "# iterate over all dimensions and generate average of minimum angles\n",
        "averages_100 = []\n",
        "averages_200 = []\n",
        "averages_500 = []\n",
        "averages_1000 = []\n",
        "averages_10000 = []\n",
        "\n",
        "sample_size_array = [100,200,500,1000,10000]\n",
        "\n",
        "for i in range(1, 1001):\n",
        "  averages_100.append(np.round(find_mean_min_angle(i,100), 4))\n",
        "\n",
        "plt.grid()\n",
        "plt.plot(np.array(range(0, 1000))+1, averages_100)\n",
        "# plt.xlim(2, 1000)\n",
        "plt.title(\"Plot of Average Minimum Angles vs Dimensions (100 samples)\")\n",
        "plt.xlabel(\"Dimensions\")\n",
        "plt.ylabel(\"Average Minimum Angles (Radians)\")\n",
        "plt.figure(figsize=(6, 6))\n",
        "\n",
        "for i in range(1, 1001):\n",
        "  averages_200.append(np.round(find_mean_min_angle(i,200), 4))\n",
        "plt.grid()\n",
        "plt.plot(np.array(range(0, 1000))+1, averages_200)\n",
        "plt.title(\"Plot of Average Minimum Angles vs Dimensions (200 samples)\")\n",
        "plt.xlabel(\"Dimensions\")\n",
        "plt.ylabel(\"Average Minimum Angles (Radians)\")\n",
        "plt.figure(figsize=(6, 6))\n",
        "\n",
        "for i in range(1, 1001):\n",
        "  averages_500.append(np.round(find_mean_min_angle(i,500), 4))\n",
        "plt.grid()\n",
        "plt.plot(np.array(range(0, 1000))+1, averages_500)\n",
        "plt.title(\"Plot of Average Minimum Angles vs Dimensions (500 samples)\")\n",
        "plt.xlabel(\"Dimensions\")\n",
        "plt.ylabel(\"Average Minimum Angles (Radians)\")\n",
        "plt.figure(figsize=(6, 6))\n",
        "\n",
        "for i in range(1, 1001):\n",
        "  averages_1000.append(np.round(find_mean_min_angle(i,1000), 4))\n",
        "plt.grid()\n",
        "plt.plot(np.array(range(0, 1000))+1, averages_1000)\n",
        "plt.title(\"Plot of Average Minimum Angles vs Dimensions (1000 samples)\")\n",
        "plt.xlabel(\"Dimensions\")\n",
        "plt.ylabel(\"Average Minimum Angles (Radians)\")\n",
        "plt.figure(figsize=(6, 6))\n",
        "\n",
        "# for i in range(1, 1001):\n",
        "  # averages_10000.append(np.round(find_mean_min_angle(i,10000), 4))\n"
      ],
      "execution_count": null,
      "outputs": [
        {
          "output_type": "execute_result",
          "data": {
            "text/plain": [
              "<Figure size 432x432 with 0 Axes>"
            ]
          },
          "metadata": {
            "tags": []
          },
          "execution_count": 7
        },
        {
          "output_type": "display_data",
          "data": {
            "image/png": "[encoded data removed]",
            "text/plain": [
              "<Figure size 432x288 with 1 Axes>"
            ]
          },
          "metadata": {
            "tags": [],
            "needs_background": "light"
          }
        },
        {
          "output_type": "display_data",
          "data": {
            "image/png": "[encoded data removed]",
            "text/plain": [
              "<Figure size 432x432 with 1 Axes>"
            ]
          },
          "metadata": {
            "tags": [],
            "needs_background": "light"
          }
        },
        {
          "output_type": "display_data",
          "data": {
            "image/png": "[encoded data removed]",
            "text/plain": [
              "<Figure size 432x432 with 1 Axes>"
            ]
          },
          "metadata": {
            "tags": [],
            "needs_background": "light"
          }
        },
        {
          "output_type": "display_data",
          "data": {
            "image/png": "[encoded data removed]",
            "text/plain": [
              "<Figure size 432x432 with 1 Axes>"
            ]
          },
          "metadata": {
            "tags": [],
            "needs_background": "light"
          }
        },
        {
          "output_type": "display_data",
          "data": {
            "text/plain": [
              "<Figure size 432x432 with 0 Axes>"
            ]
          },
          "metadata": {
            "tags": []
          }
        }
      ]
    },
    {
      "cell_type": "markdown",
      "metadata": {
        "id": "QBW3CcgmaHzj"
      },
      "source": [
        "When we change the sample size, the slope changes slightly but as the dimensions increases, it becomes less significant. We feel the reason for this is that the sample becomes less relevant as the dimensionality increase and thus relates to the *curse of dimensionality*, where the increase in dimensions dissipates the 'relationship' between the samples."
      ]
    },
    {
      "cell_type": "markdown",
      "metadata": {
        "id": "6HLxOs_R4FlP"
      },
      "source": [
        "# **Task 3:**\n",
        "\n",
        "\n",
        "*  Yes, it's a probability table:  \n",
        "$\\sum P(X,y) = 0.4 +0.14+0.05+0.02+0.26+0.13 = \\underline{\\underline{1}}$ \n",
        "\n",
        "\n",
        "*  $$E_{Y|X=2}[Y] = \\sum Y \\cdot P(Y|X=2) = \\sum Y \\cdot \\frac{P(Y,X=2)}{P(X=2)} = 1*\\frac{0,4}{0,59} + 2*\\frac{0,14}{0,59} + 3*\\frac{0,05}{0,59} = \\underline{\\underline{1,4}}$$\n",
        "\n",
        "\n",
        "* $$P(X = 1,Y = 3) = P(Y)P(X=1|Y=3) \\Rightarrow P(X=1|Y=3) = \\frac{P(X = 1,Y = 3)}{P(Y=3)}  = \\frac{0,13}{0,18} = \\underline{\\underline{0,72}} $$\n",
        "\n",
        "\n",
        "*   $$P(x,y \\in R) = \\int_{R}f(x,y)dxdy = \\int_{0}^{1}\\int_{0}^{1/2}1dxdy =  \\int_{0}^{1}[y]_{0}^{1/2} dx= \\int_{0}^{1} 1/2 dx = [x/2]_{0}^{1}= 1/2 \\neq 1$$ $\\Rightarrow$ not a joint density function \n",
        "\n",
        "\n",
        " \n",
        "*   $$ f_x(X) = \\int_{0}^{\\infty}f(x,y)dy = \\int_{0}^{\\infty}2e^{-(x+y)}dy = \\int_{0}^{\\infty} (-2e^{-x-y})'dy = 0 - (-2e^{-x}) = \\underline{\\underline{2e^{-x}}} $$\n",
        "\n",
        "$$ f_y(Y) = \\int_{0}^{y}2e^{-(x+y)}dx = \\int_{0}^{y}(-2e^{-x-y})'dx = -2e^{-y-y} + 2e^{-y} = \\underline{\\underline{2e^{-y}(1-e^{-y})}} $$\n",
        "\n",
        "\n",
        "* $$ P(X \\leq 2|Y = 1/2) = \\frac{P(X \\leq 2,Y = 1/2)}{P(Y = 1/2)} $$\n",
        "$$ \\Rightarrow P(X \\leq 2,Y = 1/2) = \\int_{0}^{2}\\frac{2x+2}{15}dx = \\underline{\\underline{0,53}} $$\n",
        "$$ \\Rightarrow P(Y = 1/2) = \\int_{0}^{3}\\frac{2x+2}{15}dx = \\underline{\\underline{1}}$$\n",
        "$$ P(X \\leq 2|Y = 1/2) = \\frac{0,53}{1} = \\underline{\\underline{0,53}} $$\n"
      ]
    },
    {
      "cell_type": "markdown",
      "metadata": {
        "id": "Y_wKw2D_4QQl"
      },
      "source": [
        "# **Task 4:**\n",
        "\n",
        "Show that the covariance matrix C of any random variable $X \\in R^p$ is\n",
        "symmetric positive semidefinite, i.e. $C = C^T$ and $x^TCx \\geq\u0015 0$ for any covariance\n",
        "matrix $C \\in R^{px\u0002p}$ and any $x \\in R^p$."
      ]
    },
    {
      "cell_type": "markdown",
      "metadata": {
        "id": "ok1qJQDFc9dc"
      },
      "source": [
        "#### Solution:\n",
        "\n",
        "$C$ is the Covariance matrix of random variable $X \\in R^p$.\n",
        "\n",
        "To prove: $C$ is symmetric i.e. $C = C^T$ and $x^TCx \\geq 0$ i.e. positive semi definite. \n",
        "\n",
        "$C = E[(X - \\mu)(X - \\mu)^T$]\n",
        "\n",
        "$C = E[(X - \\mu)(X^T - \\mu^T)$]\n",
        "\n",
        "$C = E[XX^T - X\\mu^T - \\mu X^T + \\mu\\mu^T$]\n",
        "\n",
        "$C = E[XX^T] - E[X]\\mu^T - \\mu E[X^T] + \\mu\\mu^T$\n",
        "\n",
        "$C = E[XX^T] - \\mu\\mu^T - \\mu \\mu^T + \\mu\\mu^T \\quad (\\because E[X]=\\mu \\; and \\; E[X^T]=\\mu^T)$ \n",
        "\n",
        "$C = E[XX^T] - \\mu\\mu^T$ (**equation 1**)\n",
        "\n",
        "Now, calculate $C^T$ :\n",
        "\n",
        "$C^T = E[(X - \\mu)^T(X - \\mu)$]\n",
        "\n",
        "$C^T = E[(X^T - \\mu^T)(X - \\mu)$]\n",
        "\n",
        "$C^T = E[XX^T - \\mu X^T - X\\mu^T  + \\mu\\mu^T$]\n",
        "\n",
        "$C^T = E[XX^T] - \\mu E[X^T] - E[X]\\mu^T  + \\mu\\mu^T$\n",
        "\n",
        "$C = E[XX^T] - \\mu\\mu^T - \\mu \\mu^T + \\mu\\mu^T \\quad (\\because E[X]=\\mu \\; and \\; E[X^T]=\\mu^T)$\n",
        "\n",
        "$C^T = E[XX^T] - \\mu\\mu^T$ (**equation 2**)<br>\n",
        "\n",
        "From equations 1 and 2, **$C = C^T$ i.e $C$ is symmetric**. <br>\n",
        "<br>\n",
        "\n",
        "Next, we prove that $x^TCx \\geq 0$:\n",
        "\n",
        "$x^TCx = x^TE[(X - \\mu)(X - \\mu)^T]x$\n",
        "\n",
        "$x^TCx = E[x^T(X - \\mu)(x^T(X - \\mu))^T]$\n",
        "\n",
        "Let $z = x^T(X - \\mu)$\n",
        "\n",
        "$x^TCx = E[zz^T] \\geq 0$<br>\n",
        "\n",
        "Therefore, **$x^TCx$ is positive semi definite**."
      ]
    }
  ]
}